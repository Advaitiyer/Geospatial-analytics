{
 "metadata": {
  "language_info": {
   "codemirror_mode": {
    "name": "ipython",
    "version": 3
   },
   "file_extension": ".py",
   "mimetype": "text/x-python",
   "name": "python",
   "nbconvert_exporter": "python",
   "pygments_lexer": "ipython3",
   "version": "3.7.4-final"
  },
  "orig_nbformat": 2,
  "kernelspec": {
   "name": "python_defaultSpec_1597486196442",
   "display_name": "Python 3.7.4 64-bit ('base': conda)"
  }
 },
 "nbformat": 4,
 "nbformat_minor": 2,
 "cells": [
  {
   "cell_type": "code",
   "execution_count": 1,
   "metadata": {},
   "outputs": [],
   "source": [
    "import glob\n",
    "import numpy as np\n",
    "import pandas as pd\n",
    "import matplotlib.pyplot as plt \n",
    "import scipy\n",
    "from scipy.spatial.distance import cdist\n",
    "import sklearn\n",
    "from sklearn.cluster import KMeans \n",
    "from sklearn import metrics\n",
    "from sklearn.ensemble import IsolationForest"
   ]
  },
  {
   "cell_type": "code",
   "execution_count": 13,
   "metadata": {},
   "outputs": [
    {
     "output_type": "execute_result",
     "data": {
      "text/plain": "     Country/Territory  Edition  A1  A2  A3  B1  B2  B3  B4  C1  ...  G2  G3  \\\n0          Afghanistan     2019   1   1   1   2   2   1   2   1  ...   1   0   \n1              Albania     2019   3   3   2   3   4   3   3   3  ...   2   2   \n2              Algeria     2019   1   1   1   1   1   1   1   1  ...   2   2   \n3              Andorra     2019   4   4   4   4   4   4   3   4  ...   4   3   \n4               Angola     2019   0   2   1   2   1   1   2   1  ...   1   1   \n5  Antigua and Barbuda     2019   4   4   4   3   4   3   3   3  ...   3   3   \n6            Argentina     2019   4   4   3   4   4   4   3   3  ...   3   4   \n7              Armenia     2019   2   2   2   3   3   2   2   1  ...   2   2   \n8            Australia     2019   4   4   4   4   4   4   4   4  ...   4   4   \n9              Austria     2019   4   4   4   4   4   4   3   4  ...   4   4   \n\n   G4  Density (persons per sq. km.)  Area (sq. km.)  Population  \\\n0   1                           54.9          652230    35780458   \n1   2                          111.9           27398     3066126   \n2   1                           17.8         2381740    42325923   \n3   4                          183.1             468       85684   \n4   0                           25.2         1246700    31427266   \n5   3                          219.2             443       97031   \n6   3                           16.5         2736690    45089492   \n7   2                          107.4           28203     3030288   \n8   3                            3.3         7682300    25113443   \n9   3                          107.1           82445     8828456   \n\n            Gdp  V2Peedueq Osp  V2X Feduni  V2Xdd Dd  \n0  1.910135e+10          0.819       0.055     0.000  \n1  1.527808e+10          2.585       0.469     0.000  \n2  1.700000e+11          3.029       0.054     0.000  \n3  3.154058e+09            NaN         NaN       NaN  \n4  9.463542e+10          0.794       0.000     0.000  \n5  1.727759e+09            NaN         NaN       NaN  \n6  4.500000e+11          2.762       0.940     0.000  \n7  1.367280e+10          3.100       0.409     0.000  \n8  1.390000e+12          3.200       0.986     0.000  \n9  4.460000e+11          3.636       0.972     0.153  \n\n[10 rows x 34 columns]",
      "text/html": "<div>\n<style scoped>\n    .dataframe tbody tr th:only-of-type {\n        vertical-align: middle;\n    }\n\n    .dataframe tbody tr th {\n        vertical-align: top;\n    }\n\n    .dataframe thead th {\n        text-align: right;\n    }\n</style>\n<table border=\"1\" class=\"dataframe\">\n  <thead>\n    <tr style=\"text-align: right;\">\n      <th></th>\n      <th>Country/Territory</th>\n      <th>Edition</th>\n      <th>A1</th>\n      <th>A2</th>\n      <th>A3</th>\n      <th>B1</th>\n      <th>B2</th>\n      <th>B3</th>\n      <th>B4</th>\n      <th>C1</th>\n      <th>...</th>\n      <th>G2</th>\n      <th>G3</th>\n      <th>G4</th>\n      <th>Density (persons per sq. km.)</th>\n      <th>Area (sq. km.)</th>\n      <th>Population</th>\n      <th>Gdp</th>\n      <th>V2Peedueq Osp</th>\n      <th>V2X Feduni</th>\n      <th>V2Xdd Dd</th>\n    </tr>\n  </thead>\n  <tbody>\n    <tr>\n      <td>0</td>\n      <td>Afghanistan</td>\n      <td>2019</td>\n      <td>1</td>\n      <td>1</td>\n      <td>1</td>\n      <td>2</td>\n      <td>2</td>\n      <td>1</td>\n      <td>2</td>\n      <td>1</td>\n      <td>...</td>\n      <td>1</td>\n      <td>0</td>\n      <td>1</td>\n      <td>54.9</td>\n      <td>652230</td>\n      <td>35780458</td>\n      <td>1.910135e+10</td>\n      <td>0.819</td>\n      <td>0.055</td>\n      <td>0.000</td>\n    </tr>\n    <tr>\n      <td>1</td>\n      <td>Albania</td>\n      <td>2019</td>\n      <td>3</td>\n      <td>3</td>\n      <td>2</td>\n      <td>3</td>\n      <td>4</td>\n      <td>3</td>\n      <td>3</td>\n      <td>3</td>\n      <td>...</td>\n      <td>2</td>\n      <td>2</td>\n      <td>2</td>\n      <td>111.9</td>\n      <td>27398</td>\n      <td>3066126</td>\n      <td>1.527808e+10</td>\n      <td>2.585</td>\n      <td>0.469</td>\n      <td>0.000</td>\n    </tr>\n    <tr>\n      <td>2</td>\n      <td>Algeria</td>\n      <td>2019</td>\n      <td>1</td>\n      <td>1</td>\n      <td>1</td>\n      <td>1</td>\n      <td>1</td>\n      <td>1</td>\n      <td>1</td>\n      <td>1</td>\n      <td>...</td>\n      <td>2</td>\n      <td>2</td>\n      <td>1</td>\n      <td>17.8</td>\n      <td>2381740</td>\n      <td>42325923</td>\n      <td>1.700000e+11</td>\n      <td>3.029</td>\n      <td>0.054</td>\n      <td>0.000</td>\n    </tr>\n    <tr>\n      <td>3</td>\n      <td>Andorra</td>\n      <td>2019</td>\n      <td>4</td>\n      <td>4</td>\n      <td>4</td>\n      <td>4</td>\n      <td>4</td>\n      <td>4</td>\n      <td>3</td>\n      <td>4</td>\n      <td>...</td>\n      <td>4</td>\n      <td>3</td>\n      <td>4</td>\n      <td>183.1</td>\n      <td>468</td>\n      <td>85684</td>\n      <td>3.154058e+09</td>\n      <td>NaN</td>\n      <td>NaN</td>\n      <td>NaN</td>\n    </tr>\n    <tr>\n      <td>4</td>\n      <td>Angola</td>\n      <td>2019</td>\n      <td>0</td>\n      <td>2</td>\n      <td>1</td>\n      <td>2</td>\n      <td>1</td>\n      <td>1</td>\n      <td>2</td>\n      <td>1</td>\n      <td>...</td>\n      <td>1</td>\n      <td>1</td>\n      <td>0</td>\n      <td>25.2</td>\n      <td>1246700</td>\n      <td>31427266</td>\n      <td>9.463542e+10</td>\n      <td>0.794</td>\n      <td>0.000</td>\n      <td>0.000</td>\n    </tr>\n    <tr>\n      <td>5</td>\n      <td>Antigua and Barbuda</td>\n      <td>2019</td>\n      <td>4</td>\n      <td>4</td>\n      <td>4</td>\n      <td>3</td>\n      <td>4</td>\n      <td>3</td>\n      <td>3</td>\n      <td>3</td>\n      <td>...</td>\n      <td>3</td>\n      <td>3</td>\n      <td>3</td>\n      <td>219.2</td>\n      <td>443</td>\n      <td>97031</td>\n      <td>1.727759e+09</td>\n      <td>NaN</td>\n      <td>NaN</td>\n      <td>NaN</td>\n    </tr>\n    <tr>\n      <td>6</td>\n      <td>Argentina</td>\n      <td>2019</td>\n      <td>4</td>\n      <td>4</td>\n      <td>3</td>\n      <td>4</td>\n      <td>4</td>\n      <td>4</td>\n      <td>3</td>\n      <td>3</td>\n      <td>...</td>\n      <td>3</td>\n      <td>4</td>\n      <td>3</td>\n      <td>16.5</td>\n      <td>2736690</td>\n      <td>45089492</td>\n      <td>4.500000e+11</td>\n      <td>2.762</td>\n      <td>0.940</td>\n      <td>0.000</td>\n    </tr>\n    <tr>\n      <td>7</td>\n      <td>Armenia</td>\n      <td>2019</td>\n      <td>2</td>\n      <td>2</td>\n      <td>2</td>\n      <td>3</td>\n      <td>3</td>\n      <td>2</td>\n      <td>2</td>\n      <td>1</td>\n      <td>...</td>\n      <td>2</td>\n      <td>2</td>\n      <td>2</td>\n      <td>107.4</td>\n      <td>28203</td>\n      <td>3030288</td>\n      <td>1.367280e+10</td>\n      <td>3.100</td>\n      <td>0.409</td>\n      <td>0.000</td>\n    </tr>\n    <tr>\n      <td>8</td>\n      <td>Australia</td>\n      <td>2019</td>\n      <td>4</td>\n      <td>4</td>\n      <td>4</td>\n      <td>4</td>\n      <td>4</td>\n      <td>4</td>\n      <td>4</td>\n      <td>4</td>\n      <td>...</td>\n      <td>4</td>\n      <td>4</td>\n      <td>3</td>\n      <td>3.3</td>\n      <td>7682300</td>\n      <td>25113443</td>\n      <td>1.390000e+12</td>\n      <td>3.200</td>\n      <td>0.986</td>\n      <td>0.000</td>\n    </tr>\n    <tr>\n      <td>9</td>\n      <td>Austria</td>\n      <td>2019</td>\n      <td>4</td>\n      <td>4</td>\n      <td>4</td>\n      <td>4</td>\n      <td>4</td>\n      <td>4</td>\n      <td>3</td>\n      <td>4</td>\n      <td>...</td>\n      <td>4</td>\n      <td>4</td>\n      <td>3</td>\n      <td>107.1</td>\n      <td>82445</td>\n      <td>8828456</td>\n      <td>4.460000e+11</td>\n      <td>3.636</td>\n      <td>0.972</td>\n      <td>0.153</td>\n    </tr>\n  </tbody>\n</table>\n<p>10 rows × 34 columns</p>\n</div>"
     },
     "metadata": {},
     "execution_count": 13
    }
   ],
   "source": [
    "f = glob.glob(\"/Users/advaitiyer/Desktop/Sambhavi/SOM/*.csv\")[0]\n",
    "df = pd.read_csv(f, encoding='utf-8',sep=',')\n",
    "df.head(10)"
   ]
  },
  {
   "cell_type": "code",
   "execution_count": 14,
   "metadata": {},
   "outputs": [],
   "source": [
    "df = df.dropna()"
   ]
  },
  {
   "cell_type": "code",
   "execution_count": 15,
   "metadata": {},
   "outputs": [],
   "source": [
    "df1 = df.drop(columns='Country/Territory')\n",
    "df2 = df.drop(columns='Edition')"
   ]
  },
  {
   "cell_type": "code",
   "execution_count": 25,
   "metadata": {},
   "outputs": [],
   "source": [
    "grouped_country = df2.groupby(\"Country/Territory\")\n",
    "grouped_year = df1.groupby(\"Edition\")\n",
    "def anomaly(groups):\n",
    "    # out = pd.DataFrame()\n",
    "    ls = []\n",
    "    for group, vals in groups:\n",
    "        data = groups.get_group(group)\n",
    "        data = data.iloc[:,1:]\n",
    "        to_model_columns = data.columns[1:33]\n",
    "        clf = IsolationForest(n_estimators=100,max_samples='auto',bootstrap=False,n_jobs=10)\n",
    "        clf.fit(data[to_model_columns])\n",
    "        pred = clf.predict(data[to_model_columns])\n",
    "        data['anomaly'] = pred\n",
    "        outliers = data.loc[data['anomaly']==-1]\n",
    "        outlier_index = list(outliers.index)\n",
    "        data['col'] = pd.Series([group for i in range(len(data))])\n",
    "        data = data.fillna(value = group)\n",
    "        # print(outlier_index)\n",
    "        ls.append(data)\n",
    "    return ls"
   ]
  },
  {
   "cell_type": "code",
   "execution_count": 26,
   "metadata": {
    "tags": [
     "outputPrepend"
    ]
   },
   "outputs": [
    {
     "output_type": "stream",
     "name": "stderr",
     "text": "ecationWarning: threshold_ attribute is deprecated in 0.20 and will be removed in 0.22.\n  \" be removed in 0.22.\", DeprecationWarning)\n/Users/advaitiyer/opt/anaconda3/lib/python3.7/site-packages/sklearn/ensemble/iforest.py:415: DeprecationWarning: threshold_ attribute is deprecated in 0.20 and will be removed in 0.22.\n  \" be removed in 0.22.\", DeprecationWarning)\n/Users/advaitiyer/opt/anaconda3/lib/python3.7/site-packages/sklearn/ensemble/iforest.py:415: DeprecationWarning: threshold_ attribute is deprecated in 0.20 and will be removed in 0.22.\n  \" be removed in 0.22.\", DeprecationWarning)\n/Users/advaitiyer/opt/anaconda3/lib/python3.7/site-packages/sklearn/ensemble/iforest.py:415: DeprecationWarning: threshold_ attribute is deprecated in 0.20 and will be removed in 0.22.\n  \" be removed in 0.22.\", DeprecationWarning)\n/Users/advaitiyer/opt/anaconda3/lib/python3.7/site-packages/sklearn/ensemble/iforest.py:415: DeprecationWarning: threshold_ attribute is deprecated in 0.20 and will be removed in 0.22.\n  \" be removed in 0.22.\", DeprecationWarning)\n/Users/advaitiyer/opt/anaconda3/lib/python3.7/site-packages/sklearn/ensemble/iforest.py:415: DeprecationWarning: threshold_ attribute is deprecated in 0.20 and will be removed in 0.22.\n  \" be removed in 0.22.\", DeprecationWarning)\n/Users/advaitiyer/opt/anaconda3/lib/python3.7/site-packages/sklearn/ensemble/iforest.py:415: DeprecationWarning: threshold_ attribute is deprecated in 0.20 and will be removed in 0.22.\n  \" be removed in 0.22.\", DeprecationWarning)\n/Users/advaitiyer/opt/anaconda3/lib/python3.7/site-packages/sklearn/ensemble/iforest.py:415: DeprecationWarning: threshold_ attribute is deprecated in 0.20 and will be removed in 0.22.\n  \" be removed in 0.22.\", DeprecationWarning)\n/Users/advaitiyer/opt/anaconda3/lib/python3.7/site-packages/sklearn/ensemble/iforest.py:415: DeprecationWarning: threshold_ attribute is deprecated in 0.20 and will be removed in 0.22.\n  \" be removed in 0.22.\", DeprecationWarning)\n/Users/advaitiyer/opt/anaconda3/lib/python3.7/site-packages/sklearn/ensemble/iforest.py:415: DeprecationWarning: threshold_ attribute is deprecated in 0.20 and will be removed in 0.22.\n  \" be removed in 0.22.\", DeprecationWarning)\n/Users/advaitiyer/opt/anaconda3/lib/python3.7/site-packages/sklearn/ensemble/iforest.py:415: DeprecationWarning: threshold_ attribute is deprecated in 0.20 and will be removed in 0.22.\n  \" be removed in 0.22.\", DeprecationWarning)\n/Users/advaitiyer/opt/anaconda3/lib/python3.7/site-packages/sklearn/ensemble/iforest.py:415: DeprecationWarning: threshold_ attribute is deprecated in 0.20 and will be removed in 0.22.\n  \" be removed in 0.22.\", DeprecationWarning)\n/Users/advaitiyer/opt/anaconda3/lib/python3.7/site-packages/sklearn/ensemble/iforest.py:415: DeprecationWarning: threshold_ attribute is deprecated in 0.20 and will be removed in 0.22.\n  \" be removed in 0.22.\", DeprecationWarning)\n/Users/advaitiyer/opt/anaconda3/lib/python3.7/site-packages/sklearn/ensemble/iforest.py:415: DeprecationWarning: threshold_ attribute is deprecated in 0.20 and will be removed in 0.22.\n  \" be removed in 0.22.\", DeprecationWarning)\n/Users/advaitiyer/opt/anaconda3/lib/python3.7/site-packages/sklearn/ensemble/iforest.py:415: DeprecationWarning: threshold_ attribute is deprecated in 0.20 and will be removed in 0.22.\n  \" be removed in 0.22.\", DeprecationWarning)\n/Users/advaitiyer/opt/anaconda3/lib/python3.7/site-packages/sklearn/ensemble/iforest.py:415: DeprecationWarning: threshold_ attribute is deprecated in 0.20 and will be removed in 0.22.\n  \" be removed in 0.22.\", DeprecationWarning)\n/Users/advaitiyer/opt/anaconda3/lib/python3.7/site-packages/sklearn/ensemble/iforest.py:415: DeprecationWarning: threshold_ attribute is deprecated in 0.20 and will be removed in 0.22.\n  \" be removed in 0.22.\", DeprecationWarning)\n/Users/advaitiyer/opt/anaconda3/lib/python3.7/site-packages/sklearn/ensemble/iforest.py:415: DeprecationWarning: threshold_ attribute is deprecated in 0.20 and will be removed in 0.22.\n  \" be removed in 0.22.\", DeprecationWarning)\n/Users/advaitiyer/opt/anaconda3/lib/python3.7/site-packages/sklearn/ensemble/iforest.py:415: DeprecationWarning: threshold_ attribute is deprecated in 0.20 and will be removed in 0.22.\n  \" be removed in 0.22.\", DeprecationWarning)\n/Users/advaitiyer/opt/anaconda3/lib/python3.7/site-packages/sklearn/ensemble/iforest.py:415: DeprecationWarning: threshold_ attribute is deprecated in 0.20 and will be removed in 0.22.\n  \" be removed in 0.22.\", DeprecationWarning)\n/Users/advaitiyer/opt/anaconda3/lib/python3.7/site-packages/sklearn/ensemble/iforest.py:415: DeprecationWarning: threshold_ attribute is deprecated in 0.20 and will be removed in 0.22.\n  \" be removed in 0.22.\", DeprecationWarning)\n/Users/advaitiyer/opt/anaconda3/lib/python3.7/site-packages/sklearn/ensemble/iforest.py:415: DeprecationWarning: threshold_ attribute is deprecated in 0.20 and will be removed in 0.22.\n  \" be removed in 0.22.\", DeprecationWarning)\n/Users/advaitiyer/opt/anaconda3/lib/python3.7/site-packages/sklearn/ensemble/iforest.py:415: DeprecationWarning: threshold_ attribute is deprecated in 0.20 and will be removed in 0.22.\n  \" be removed in 0.22.\", DeprecationWarning)\n/Users/advaitiyer/opt/anaconda3/lib/python3.7/site-packages/sklearn/ensemble/iforest.py:415: DeprecationWarning: threshold_ attribute is deprecated in 0.20 and will be removed in 0.22.\n  \" be removed in 0.22.\", DeprecationWarning)\n/Users/advaitiyer/opt/anaconda3/lib/python3.7/site-packages/sklearn/ensemble/iforest.py:415: DeprecationWarning: threshold_ attribute is deprecated in 0.20 and will be removed in 0.22.\n  \" be removed in 0.22.\", DeprecationWarning)\n/Users/advaitiyer/opt/anaconda3/lib/python3.7/site-packages/sklearn/ensemble/iforest.py:415: DeprecationWarning: threshold_ attribute is deprecated in 0.20 and will be removed in 0.22.\n  \" be removed in 0.22.\", DeprecationWarning)\n/Users/advaitiyer/opt/anaconda3/lib/python3.7/site-packages/sklearn/ensemble/iforest.py:415: DeprecationWarning: threshold_ attribute is deprecated in 0.20 and will be removed in 0.22.\n  \" be removed in 0.22.\", DeprecationWarning)\n/Users/advaitiyer/opt/anaconda3/lib/python3.7/site-packages/sklearn/ensemble/iforest.py:415: DeprecationWarning: threshold_ attribute is deprecated in 0.20 and will be removed in 0.22.\n  \" be removed in 0.22.\", DeprecationWarning)\n/Users/advaitiyer/opt/anaconda3/lib/python3.7/site-packages/sklearn/ensemble/iforest.py:415: DeprecationWarning: threshold_ attribute is deprecated in 0.20 and will be removed in 0.22.\n  \" be removed in 0.22.\", DeprecationWarning)\n/Users/advaitiyer/opt/anaconda3/lib/python3.7/site-packages/sklearn/ensemble/iforest.py:415: DeprecationWarning: threshold_ attribute is deprecated in 0.20 and will be removed in 0.22.\n  \" be removed in 0.22.\", DeprecationWarning)\n/Users/advaitiyer/opt/anaconda3/lib/python3.7/site-packages/sklearn/ensemble/iforest.py:415: DeprecationWarning: threshold_ attribute is deprecated in 0.20 and will be removed in 0.22.\n  \" be removed in 0.22.\", DeprecationWarning)\n/Users/advaitiyer/opt/anaconda3/lib/python3.7/site-packages/sklearn/ensemble/iforest.py:415: DeprecationWarning: threshold_ attribute is deprecated in 0.20 and will be removed in 0.22.\n  \" be removed in 0.22.\", DeprecationWarning)\n/Users/advaitiyer/opt/anaconda3/lib/python3.7/site-packages/sklearn/ensemble/iforest.py:415: DeprecationWarning: threshold_ attribute is deprecated in 0.20 and will be removed in 0.22.\n  \" be removed in 0.22.\", DeprecationWarning)\n/Users/advaitiyer/opt/anaconda3/lib/python3.7/site-packages/sklearn/ensemble/iforest.py:415: DeprecationWarning: threshold_ attribute is deprecated in 0.20 and will be removed in 0.22.\n  \" be removed in 0.22.\", DeprecationWarning)\n/Users/advaitiyer/opt/anaconda3/lib/python3.7/site-packages/sklearn/ensemble/iforest.py:415: DeprecationWarning: threshold_ attribute is deprecated in 0.20 and will be removed in 0.22.\n  \" be removed in 0.22.\", DeprecationWarning)\n/Users/advaitiyer/opt/anaconda3/lib/python3.7/site-packages/sklearn/ensemble/iforest.py:415: DeprecationWarning: threshold_ attribute is deprecated in 0.20 and will be removed in 0.22.\n  \" be removed in 0.22.\", DeprecationWarning)\n/Users/advaitiyer/opt/anaconda3/lib/python3.7/site-packages/sklearn/ensemble/iforest.py:415: DeprecationWarning: threshold_ attribute is deprecated in 0.20 and will be removed in 0.22.\n  \" be removed in 0.22.\", DeprecationWarning)\n/Users/advaitiyer/opt/anaconda3/lib/python3.7/site-packages/sklearn/ensemble/iforest.py:415: DeprecationWarning: threshold_ attribute is deprecated in 0.20 and will be removed in 0.22.\n  \" be removed in 0.22.\", DeprecationWarning)\n/Users/advaitiyer/opt/anaconda3/lib/python3.7/site-packages/sklearn/ensemble/iforest.py:415: DeprecationWarning: threshold_ attribute is deprecated in 0.20 and will be removed in 0.22.\n  \" be removed in 0.22.\", DeprecationWarning)\n/Users/advaitiyer/opt/anaconda3/lib/python3.7/site-packages/sklearn/ensemble/iforest.py:415: DeprecationWarning: threshold_ attribute is deprecated in 0.20 and will be removed in 0.22.\n  \" be removed in 0.22.\", DeprecationWarning)\n/Users/advaitiyer/opt/anaconda3/lib/python3.7/site-packages/sklearn/ensemble/iforest.py:415: DeprecationWarning: threshold_ attribute is deprecated in 0.20 and will be removed in 0.22.\n  \" be removed in 0.22.\", DeprecationWarning)\n/Users/advaitiyer/opt/anaconda3/lib/python3.7/site-packages/sklearn/ensemble/iforest.py:415: DeprecationWarning: threshold_ attribute is deprecated in 0.20 and will be removed in 0.22.\n  \" be removed in 0.22.\", DeprecationWarning)\n/Users/advaitiyer/opt/anaconda3/lib/python3.7/site-packages/sklearn/ensemble/iforest.py:415: DeprecationWarning: threshold_ attribute is deprecated in 0.20 and will be removed in 0.22.\n  \" be removed in 0.22.\", DeprecationWarning)\n/Users/advaitiyer/opt/anaconda3/lib/python3.7/site-packages/sklearn/ensemble/iforest.py:415: DeprecationWarning: threshold_ attribute is deprecated in 0.20 and will be removed in 0.22.\n  \" be removed in 0.22.\", DeprecationWarning)\n/Users/advaitiyer/opt/anaconda3/lib/python3.7/site-packages/sklearn/ensemble/iforest.py:415: DeprecationWarning: threshold_ attribute is deprecated in 0.20 and will be removed in 0.22.\n  \" be removed in 0.22.\", DeprecationWarning)\n/Users/advaitiyer/opt/anaconda3/lib/python3.7/site-packages/sklearn/ensemble/iforest.py:415: DeprecationWarning: threshold_ attribute is deprecated in 0.20 and will be removed in 0.22.\n  \" be removed in 0.22.\", DeprecationWarning)\n/Users/advaitiyer/opt/anaconda3/lib/python3.7/site-packages/sklearn/ensemble/iforest.py:415: DeprecationWarning: threshold_ attribute is deprecated in 0.20 and will be removed in 0.22.\n  \" be removed in 0.22.\", DeprecationWarning)\n/Users/advaitiyer/opt/anaconda3/lib/python3.7/site-packages/sklearn/ensemble/iforest.py:415: DeprecationWarning: threshold_ attribute is deprecated in 0.20 and will be removed in 0.22.\n  \" be removed in 0.22.\", DeprecationWarning)\n/Users/advaitiyer/opt/anaconda3/lib/python3.7/site-packages/sklearn/ensemble/iforest.py:415: DeprecationWarning: threshold_ attribute is deprecated in 0.20 and will be removed in 0.22.\n  \" be removed in 0.22.\", DeprecationWarning)\n/Users/advaitiyer/opt/anaconda3/lib/python3.7/site-packages/sklearn/ensemble/iforest.py:415: DeprecationWarning: threshold_ attribute is deprecated in 0.20 and will be removed in 0.22.\n  \" be removed in 0.22.\", DeprecationWarning)\n/Users/advaitiyer/opt/anaconda3/lib/python3.7/site-packages/sklearn/ensemble/iforest.py:415: DeprecationWarning: threshold_ attribute is deprecated in 0.20 and will be removed in 0.22.\n  \" be removed in 0.22.\", DeprecationWarning)\n/Users/advaitiyer/opt/anaconda3/lib/python3.7/site-packages/sklearn/ensemble/iforest.py:415: DeprecationWarning: threshold_ attribute is deprecated in 0.20 and will be removed in 0.22.\n  \" be removed in 0.22.\", DeprecationWarning)\n/Users/advaitiyer/opt/anaconda3/lib/python3.7/site-packages/sklearn/ensemble/iforest.py:415: DeprecationWarning: threshold_ attribute is deprecated in 0.20 and will be removed in 0.22.\n  \" be removed in 0.22.\", DeprecationWarning)\n/Users/advaitiyer/opt/anaconda3/lib/python3.7/site-packages/sklearn/ensemble/iforest.py:415: DeprecationWarning: threshold_ attribute is deprecated in 0.20 and will be removed in 0.22.\n  \" be removed in 0.22.\", DeprecationWarning)\n/Users/advaitiyer/opt/anaconda3/lib/python3.7/site-packages/sklearn/ensemble/iforest.py:415: DeprecationWarning: threshold_ attribute is deprecated in 0.20 and will be removed in 0.22.\n  \" be removed in 0.22.\", DeprecationWarning)\n/Users/advaitiyer/opt/anaconda3/lib/python3.7/site-packages/sklearn/ensemble/iforest.py:415: DeprecationWarning: threshold_ attribute is deprecated in 0.20 and will be removed in 0.22.\n  \" be removed in 0.22.\", DeprecationWarning)\n/Users/advaitiyer/opt/anaconda3/lib/python3.7/site-packages/sklearn/ensemble/iforest.py:415: DeprecationWarning: threshold_ attribute is deprecated in 0.20 and will be removed in 0.22.\n  \" be removed in 0.22.\", DeprecationWarning)\n/Users/advaitiyer/opt/anaconda3/lib/python3.7/site-packages/sklearn/ensemble/iforest.py:415: DeprecationWarning: threshold_ attribute is deprecated in 0.20 and will be removed in 0.22.\n  \" be removed in 0.22.\", DeprecationWarning)\n/Users/advaitiyer/opt/anaconda3/lib/python3.7/site-packages/sklearn/ensemble/iforest.py:415: DeprecationWarning: threshold_ attribute is deprecated in 0.20 and will be removed in 0.22.\n  \" be removed in 0.22.\", DeprecationWarning)\n/Users/advaitiyer/opt/anaconda3/lib/python3.7/site-packages/sklearn/ensemble/iforest.py:415: DeprecationWarning: threshold_ attribute is deprecated in 0.20 and will be removed in 0.22.\n  \" be removed in 0.22.\", DeprecationWarning)\n/Users/advaitiyer/opt/anaconda3/lib/python3.7/site-packages/sklearn/ensemble/iforest.py:415: DeprecationWarning: threshold_ attribute is deprecated in 0.20 and will be removed in 0.22.\n  \" be removed in 0.22.\", DeprecationWarning)\n/Users/advaitiyer/opt/anaconda3/lib/python3.7/site-packages/sklearn/ensemble/iforest.py:415: DeprecationWarning: threshold_ attribute is deprecated in 0.20 and will be removed in 0.22.\n  \" be removed in 0.22.\", DeprecationWarning)\n/Users/advaitiyer/opt/anaconda3/lib/python3.7/site-packages/sklearn/ensemble/iforest.py:415: DeprecationWarning: threshold_ attribute is deprecated in 0.20 and will be removed in 0.22.\n  \" be removed in 0.22.\", DeprecationWarning)\n/Users/advaitiyer/opt/anaconda3/lib/python3.7/site-packages/sklearn/ensemble/iforest.py:415: DeprecationWarning: threshold_ attribute is deprecated in 0.20 and will be removed in 0.22.\n  \" be removed in 0.22.\", DeprecationWarning)\n/Users/advaitiyer/opt/anaconda3/lib/python3.7/site-packages/sklearn/ensemble/iforest.py:415: DeprecationWarning: threshold_ attribute is deprecated in 0.20 and will be removed in 0.22.\n  \" be removed in 0.22.\", DeprecationWarning)\n/Users/advaitiyer/opt/anaconda3/lib/python3.7/site-packages/sklearn/ensemble/iforest.py:415: DeprecationWarning: threshold_ attribute is deprecated in 0.20 and will be removed in 0.22.\n  \" be removed in 0.22.\", DeprecationWarning)\n/Users/advaitiyer/opt/anaconda3/lib/python3.7/site-packages/sklearn/ensemble/iforest.py:415: DeprecationWarning: threshold_ attribute is deprecated in 0.20 and will be removed in 0.22.\n  \" be removed in 0.22.\", DeprecationWarning)\n/Users/advaitiyer/opt/anaconda3/lib/python3.7/site-packages/sklearn/ensemble/iforest.py:415: DeprecationWarning: threshold_ attribute is deprecated in 0.20 and will be removed in 0.22.\n  \" be removed in 0.22.\", DeprecationWarning)\n/Users/advaitiyer/opt/anaconda3/lib/python3.7/site-packages/sklearn/ensemble/iforest.py:415: DeprecationWarning: threshold_ attribute is deprecated in 0.20 and will be removed in 0.22.\n  \" be removed in 0.22.\", DeprecationWarning)\n/Users/advaitiyer/opt/anaconda3/lib/python3.7/site-packages/sklearn/ensemble/iforest.py:415: DeprecationWarning: threshold_ attribute is deprecated in 0.20 and will be removed in 0.22.\n  \" be removed in 0.22.\", DeprecationWarning)\n/Users/advaitiyer/opt/anaconda3/lib/python3.7/site-packages/sklearn/ensemble/iforest.py:415: DeprecationWarning: threshold_ attribute is deprecated in 0.20 and will be removed in 0.22.\n  \" be removed in 0.22.\", DeprecationWarning)\n/Users/advaitiyer/opt/anaconda3/lib/python3.7/site-packages/sklearn/ensemble/iforest.py:415: DeprecationWarning: threshold_ attribute is deprecated in 0.20 and will be removed in 0.22.\n  \" be removed in 0.22.\", DeprecationWarning)\n/Users/advaitiyer/opt/anaconda3/lib/python3.7/site-packages/sklearn/ensemble/iforest.py:415: DeprecationWarning: threshold_ attribute is deprecated in 0.20 and will be removed in 0.22.\n  \" be removed in 0.22.\", DeprecationWarning)\n/Users/advaitiyer/opt/anaconda3/lib/python3.7/site-packages/sklearn/ensemble/iforest.py:415: DeprecationWarning: threshold_ attribute is deprecated in 0.20 and will be removed in 0.22.\n  \" be removed in 0.22.\", DeprecationWarning)\n/Users/advaitiyer/opt/anaconda3/lib/python3.7/site-packages/sklearn/ensemble/iforest.py:415: DeprecationWarning: threshold_ attribute is deprecated in 0.20 and will be removed in 0.22.\n  \" be removed in 0.22.\", DeprecationWarning)\n/Users/advaitiyer/opt/anaconda3/lib/python3.7/site-packages/sklearn/ensemble/iforest.py:415: DeprecationWarning: threshold_ attribute is deprecated in 0.20 and will be removed in 0.22.\n  \" be removed in 0.22.\", DeprecationWarning)\n/Users/advaitiyer/opt/anaconda3/lib/python3.7/site-packages/sklearn/ensemble/iforest.py:415: DeprecationWarning: threshold_ attribute is deprecated in 0.20 and will be removed in 0.22.\n  \" be removed in 0.22.\", DeprecationWarning)\n/Users/advaitiyer/opt/anaconda3/lib/python3.7/site-packages/sklearn/ensemble/iforest.py:415: DeprecationWarning: threshold_ attribute is deprecated in 0.20 and will be removed in 0.22.\n  \" be removed in 0.22.\", DeprecationWarning)\n/Users/advaitiyer/opt/anaconda3/lib/python3.7/site-packages/sklearn/ensemble/iforest.py:415: DeprecationWarning: threshold_ attribute is deprecated in 0.20 and will be removed in 0.22.\n  \" be removed in 0.22.\", DeprecationWarning)\n/Users/advaitiyer/opt/anaconda3/lib/python3.7/site-packages/sklearn/ensemble/iforest.py:415: DeprecationWarning: threshold_ attribute is deprecated in 0.20 and will be removed in 0.22.\n  \" be removed in 0.22.\", DeprecationWarning)\n/Users/advaitiyer/opt/anaconda3/lib/python3.7/site-packages/sklearn/ensemble/iforest.py:415: DeprecationWarning: threshold_ attribute is deprecated in 0.20 and will be removed in 0.22.\n  \" be removed in 0.22.\", DeprecationWarning)\n/Users/advaitiyer/opt/anaconda3/lib/python3.7/site-packages/sklearn/ensemble/iforest.py:415: DeprecationWarning: threshold_ attribute is deprecated in 0.20 and will be removed in 0.22.\n  \" be removed in 0.22.\", DeprecationWarning)\n/Users/advaitiyer/opt/anaconda3/lib/python3.7/site-packages/sklearn/ensemble/iforest.py:415: DeprecationWarning: threshold_ attribute is deprecated in 0.20 and will be removed in 0.22.\n  \" be removed in 0.22.\", DeprecationWarning)\n/Users/advaitiyer/opt/anaconda3/lib/python3.7/site-packages/sklearn/ensemble/iforest.py:415: DeprecationWarning: threshold_ attribute is deprecated in 0.20 and will be removed in 0.22.\n  \" be removed in 0.22.\", DeprecationWarning)\n/Users/advaitiyer/opt/anaconda3/lib/python3.7/site-packages/sklearn/ensemble/iforest.py:415: DeprecationWarning: threshold_ attribute is deprecated in 0.20 and will be removed in 0.22.\n  \" be removed in 0.22.\", DeprecationWarning)\n/Users/advaitiyer/opt/anaconda3/lib/python3.7/site-packages/sklearn/ensemble/iforest.py:415: DeprecationWarning: threshold_ attribute is deprecated in 0.20 and will be removed in 0.22.\n  \" be removed in 0.22.\", DeprecationWarning)\n/Users/advaitiyer/opt/anaconda3/lib/python3.7/site-packages/sklearn/ensemble/iforest.py:415: DeprecationWarning: threshold_ attribute is deprecated in 0.20 and will be removed in 0.22.\n  \" be removed in 0.22.\", DeprecationWarning)\n"
    }
   ],
   "source": [
    "by_country = anomaly(grouped_country)\n",
    "by_year = anomaly(grouped_year)"
   ]
  },
  {
   "cell_type": "code",
   "execution_count": 29,
   "metadata": {},
   "outputs": [],
   "source": [
    "anomaly_by_country = pd.concat(by_country)\n",
    "anomaly_by_year = pd.concat(by_year)"
   ]
  },
  {
   "cell_type": "code",
   "execution_count": 32,
   "metadata": {},
   "outputs": [],
   "source": [
    "country_based = pd.merge(anomaly_by_country, df['Edition'], left_index=True, right_index=True, how='outer')\n",
    "year_based = pd.merge(anomaly_by_year, df['Country/Territory'], left_index=True, right_index=True, how='outer')"
   ]
  },
  {
   "cell_type": "code",
   "execution_count": 35,
   "metadata": {},
   "outputs": [],
   "source": [
    "country_based.to_csv('country_based.csv',sep=',',encoding='utf-8')"
   ]
  },
  {
   "cell_type": "code",
   "execution_count": 36,
   "metadata": {},
   "outputs": [],
   "source": [
    "year_based.to_csv('year_based.csv',sep=',',encoding='utf-8')"
   ]
  },
  {
   "cell_type": "code",
   "execution_count": 41,
   "metadata": {},
   "outputs": [
    {
     "output_type": "execute_result",
     "data": {
      "text/plain": "      A1  A2  A3  B1  B2  B3  B4  C1  C2  C3  ...  G2  G3  G4  \\\n1      3   3   2   3   4   3   3   3   2   2  ...   2   2   2   \n2      1   1   1   1   1   1   1   1   1   1  ...   2   2   1   \n4      0   2   1   2   1   1   2   1   1   0  ...   1   1   0   \n6      4   4   3   4   4   4   3   3   2   3  ...   3   4   3   \n7      2   2   2   3   3   2   2   1   1   2  ...   2   2   2   \n...   ..  ..  ..  ..  ..  ..  ..  ..  ..  ..  ...  ..  ..  ..   \n1382   3   3   3   4   4   4   3   4   2   2  ...   3   2   2   \n1383   2   2   1   2   2   1   3   1   0   1  ...   1   3   2   \n1387   1   0   2   2   1   0   1   1   1   0  ...   1   1   1   \n1388   3   3   3   2   4   3   3   3   2   2  ...   2   1   2   \n1389   1   1   1   1   2   1   1   1   1   1  ...   1   1   1   \n\n      Density (persons per sq. km.)  Area (sq. km.)  Population           Gdp  \\\n1                             111.9           27398     3066126  1.527808e+10   \n2                              17.8         2381740    42325923  1.700000e+11   \n4                              25.2         1246700    31427266  9.463542e+10   \n6                              16.5         2736690    45089492  4.500000e+11   \n7                             107.4           28203     3030288  1.367280e+10   \n...                             ...             ...         ...           ...   \n1382                           21.5           12189      261565  8.017876e+08   \n1383                           33.9          882050    29923119  3.710000e+11   \n1387                           48.0          527968    25338458  4.041524e+10   \n1388                           19.1          743398    14222233  2.804551e+10   \n1389                           33.9          386847    13107377  1.909102e+10   \n\n      V2Peedueq Osp  V2X Feduni  V2Xdd Dd  \n1             2.585       0.469     0.000  \n2             3.029       0.054     0.000  \n4             0.794       0.000     0.000  \n6             2.762       0.940     0.000  \n7             3.100       0.409     0.000  \n...             ...         ...       ...  \n1382          2.649       0.404     0.013  \n1383          1.235       0.748     0.000  \n1387          1.038       0.000     0.000  \n1388          1.270       0.403     0.000  \n1389          3.140       0.552     0.000  \n\n[1048 rows x 32 columns]",
      "text/html": "<div>\n<style scoped>\n    .dataframe tbody tr th:only-of-type {\n        vertical-align: middle;\n    }\n\n    .dataframe tbody tr th {\n        vertical-align: top;\n    }\n\n    .dataframe thead th {\n        text-align: right;\n    }\n</style>\n<table border=\"1\" class=\"dataframe\">\n  <thead>\n    <tr style=\"text-align: right;\">\n      <th></th>\n      <th>A1</th>\n      <th>A2</th>\n      <th>A3</th>\n      <th>B1</th>\n      <th>B2</th>\n      <th>B3</th>\n      <th>B4</th>\n      <th>C1</th>\n      <th>C2</th>\n      <th>C3</th>\n      <th>...</th>\n      <th>G2</th>\n      <th>G3</th>\n      <th>G4</th>\n      <th>Density (persons per sq. km.)</th>\n      <th>Area (sq. km.)</th>\n      <th>Population</th>\n      <th>Gdp</th>\n      <th>V2Peedueq Osp</th>\n      <th>V2X Feduni</th>\n      <th>V2Xdd Dd</th>\n    </tr>\n  </thead>\n  <tbody>\n    <tr>\n      <td>1</td>\n      <td>3</td>\n      <td>3</td>\n      <td>2</td>\n      <td>3</td>\n      <td>4</td>\n      <td>3</td>\n      <td>3</td>\n      <td>3</td>\n      <td>2</td>\n      <td>2</td>\n      <td>...</td>\n      <td>2</td>\n      <td>2</td>\n      <td>2</td>\n      <td>111.9</td>\n      <td>27398</td>\n      <td>3066126</td>\n      <td>1.527808e+10</td>\n      <td>2.585</td>\n      <td>0.469</td>\n      <td>0.000</td>\n    </tr>\n    <tr>\n      <td>2</td>\n      <td>1</td>\n      <td>1</td>\n      <td>1</td>\n      <td>1</td>\n      <td>1</td>\n      <td>1</td>\n      <td>1</td>\n      <td>1</td>\n      <td>1</td>\n      <td>1</td>\n      <td>...</td>\n      <td>2</td>\n      <td>2</td>\n      <td>1</td>\n      <td>17.8</td>\n      <td>2381740</td>\n      <td>42325923</td>\n      <td>1.700000e+11</td>\n      <td>3.029</td>\n      <td>0.054</td>\n      <td>0.000</td>\n    </tr>\n    <tr>\n      <td>4</td>\n      <td>0</td>\n      <td>2</td>\n      <td>1</td>\n      <td>2</td>\n      <td>1</td>\n      <td>1</td>\n      <td>2</td>\n      <td>1</td>\n      <td>1</td>\n      <td>0</td>\n      <td>...</td>\n      <td>1</td>\n      <td>1</td>\n      <td>0</td>\n      <td>25.2</td>\n      <td>1246700</td>\n      <td>31427266</td>\n      <td>9.463542e+10</td>\n      <td>0.794</td>\n      <td>0.000</td>\n      <td>0.000</td>\n    </tr>\n    <tr>\n      <td>6</td>\n      <td>4</td>\n      <td>4</td>\n      <td>3</td>\n      <td>4</td>\n      <td>4</td>\n      <td>4</td>\n      <td>3</td>\n      <td>3</td>\n      <td>2</td>\n      <td>3</td>\n      <td>...</td>\n      <td>3</td>\n      <td>4</td>\n      <td>3</td>\n      <td>16.5</td>\n      <td>2736690</td>\n      <td>45089492</td>\n      <td>4.500000e+11</td>\n      <td>2.762</td>\n      <td>0.940</td>\n      <td>0.000</td>\n    </tr>\n    <tr>\n      <td>7</td>\n      <td>2</td>\n      <td>2</td>\n      <td>2</td>\n      <td>3</td>\n      <td>3</td>\n      <td>2</td>\n      <td>2</td>\n      <td>1</td>\n      <td>1</td>\n      <td>2</td>\n      <td>...</td>\n      <td>2</td>\n      <td>2</td>\n      <td>2</td>\n      <td>107.4</td>\n      <td>28203</td>\n      <td>3030288</td>\n      <td>1.367280e+10</td>\n      <td>3.100</td>\n      <td>0.409</td>\n      <td>0.000</td>\n    </tr>\n    <tr>\n      <td>...</td>\n      <td>...</td>\n      <td>...</td>\n      <td>...</td>\n      <td>...</td>\n      <td>...</td>\n      <td>...</td>\n      <td>...</td>\n      <td>...</td>\n      <td>...</td>\n      <td>...</td>\n      <td>...</td>\n      <td>...</td>\n      <td>...</td>\n      <td>...</td>\n      <td>...</td>\n      <td>...</td>\n      <td>...</td>\n      <td>...</td>\n      <td>...</td>\n      <td>...</td>\n      <td>...</td>\n    </tr>\n    <tr>\n      <td>1382</td>\n      <td>3</td>\n      <td>3</td>\n      <td>3</td>\n      <td>4</td>\n      <td>4</td>\n      <td>4</td>\n      <td>3</td>\n      <td>4</td>\n      <td>2</td>\n      <td>2</td>\n      <td>...</td>\n      <td>3</td>\n      <td>2</td>\n      <td>2</td>\n      <td>21.5</td>\n      <td>12189</td>\n      <td>261565</td>\n      <td>8.017876e+08</td>\n      <td>2.649</td>\n      <td>0.404</td>\n      <td>0.013</td>\n    </tr>\n    <tr>\n      <td>1383</td>\n      <td>2</td>\n      <td>2</td>\n      <td>1</td>\n      <td>2</td>\n      <td>2</td>\n      <td>1</td>\n      <td>3</td>\n      <td>1</td>\n      <td>0</td>\n      <td>1</td>\n      <td>...</td>\n      <td>1</td>\n      <td>3</td>\n      <td>2</td>\n      <td>33.9</td>\n      <td>882050</td>\n      <td>29923119</td>\n      <td>3.710000e+11</td>\n      <td>1.235</td>\n      <td>0.748</td>\n      <td>0.000</td>\n    </tr>\n    <tr>\n      <td>1387</td>\n      <td>1</td>\n      <td>0</td>\n      <td>2</td>\n      <td>2</td>\n      <td>1</td>\n      <td>0</td>\n      <td>1</td>\n      <td>1</td>\n      <td>1</td>\n      <td>0</td>\n      <td>...</td>\n      <td>1</td>\n      <td>1</td>\n      <td>1</td>\n      <td>48.0</td>\n      <td>527968</td>\n      <td>25338458</td>\n      <td>4.041524e+10</td>\n      <td>1.038</td>\n      <td>0.000</td>\n      <td>0.000</td>\n    </tr>\n    <tr>\n      <td>1388</td>\n      <td>3</td>\n      <td>3</td>\n      <td>3</td>\n      <td>2</td>\n      <td>4</td>\n      <td>3</td>\n      <td>3</td>\n      <td>3</td>\n      <td>2</td>\n      <td>2</td>\n      <td>...</td>\n      <td>2</td>\n      <td>1</td>\n      <td>2</td>\n      <td>19.1</td>\n      <td>743398</td>\n      <td>14222233</td>\n      <td>2.804551e+10</td>\n      <td>1.270</td>\n      <td>0.403</td>\n      <td>0.000</td>\n    </tr>\n    <tr>\n      <td>1389</td>\n      <td>1</td>\n      <td>1</td>\n      <td>1</td>\n      <td>1</td>\n      <td>2</td>\n      <td>1</td>\n      <td>1</td>\n      <td>1</td>\n      <td>1</td>\n      <td>1</td>\n      <td>...</td>\n      <td>1</td>\n      <td>1</td>\n      <td>1</td>\n      <td>33.9</td>\n      <td>386847</td>\n      <td>13107377</td>\n      <td>1.909102e+10</td>\n      <td>3.140</td>\n      <td>0.552</td>\n      <td>0.000</td>\n    </tr>\n  </tbody>\n</table>\n<p>1048 rows × 32 columns</p>\n</div>"
     },
     "metadata": {},
     "execution_count": 41
    }
   ],
   "source": [
    "year_based1.iloc[:,:32]"
   ]
  },
  {
   "cell_type": "code",
   "execution_count": 38,
   "metadata": {},
   "outputs": [
    {
     "output_type": "execute_result",
     "data": {
      "text/plain": "      A1  A2  A3  B1  B2  B3  B4  C1  C2  C3  ...  \\\n1      3   3   2   3   4   3   3   3   2   2  ...   \n2      1   1   1   1   1   1   1   1   1   1  ...   \n4      0   2   1   2   1   1   2   1   1   0  ...   \n6      4   4   3   4   4   4   3   3   2   3  ...   \n7      2   2   2   3   3   2   2   1   1   2  ...   \n...   ..  ..  ..  ..  ..  ..  ..  ..  ..  ..  ...   \n1382   3   3   3   4   4   4   3   4   2   2  ...   \n1383   2   2   1   2   2   1   3   1   0   1  ...   \n1387   1   0   2   2   1   0   1   1   1   0  ...   \n1388   3   3   3   2   4   3   3   3   2   2  ...   \n1389   1   1   1   1   2   1   1   1   1   1  ...   \n\n      Density (persons per sq. km.)  Area (sq. km.)  Population           Gdp  \\\n1                             111.9           27398     3066126  1.527808e+10   \n2                              17.8         2381740    42325923  1.700000e+11   \n4                              25.2         1246700    31427266  9.463542e+10   \n6                              16.5         2736690    45089492  4.500000e+11   \n7                             107.4           28203     3030288  1.367280e+10   \n...                             ...             ...         ...           ...   \n1382                           21.5           12189      261565  8.017876e+08   \n1383                           33.9          882050    29923119  3.710000e+11   \n1387                           48.0          527968    25338458  4.041524e+10   \n1388                           19.1          743398    14222233  2.804551e+10   \n1389                           33.9          386847    13107377  1.909102e+10   \n\n      V2Peedueq Osp  V2X Feduni  V2Xdd Dd  anomaly     col  Country/Territory  \n1             2.585       0.469     0.000        1  2019.0            Albania  \n2             3.029       0.054     0.000        1  2019.0            Algeria  \n4             0.794       0.000     0.000        1  2019.0             Angola  \n6             2.762       0.940     0.000        1  2019.0          Argentina  \n7             3.100       0.409     0.000        1  2019.0            Armenia  \n...             ...         ...       ...      ...     ...                ...  \n1382          2.649       0.404     0.013        1  2013.0            Vanuatu  \n1383          1.235       0.748     0.000        1  2013.0          Venezuela  \n1387          1.038       0.000     0.000        1  2013.0              Yemen  \n1388          1.270       0.403     0.000        1  2013.0             Zambia  \n1389          3.140       0.552     0.000        1  2013.0           Zimbabwe  \n\n[1048 rows x 35 columns]",
      "text/html": "<div>\n<style scoped>\n    .dataframe tbody tr th:only-of-type {\n        vertical-align: middle;\n    }\n\n    .dataframe tbody tr th {\n        vertical-align: top;\n    }\n\n    .dataframe thead th {\n        text-align: right;\n    }\n</style>\n<table border=\"1\" class=\"dataframe\">\n  <thead>\n    <tr style=\"text-align: right;\">\n      <th></th>\n      <th>A1</th>\n      <th>A2</th>\n      <th>A3</th>\n      <th>B1</th>\n      <th>B2</th>\n      <th>B3</th>\n      <th>B4</th>\n      <th>C1</th>\n      <th>C2</th>\n      <th>C3</th>\n      <th>...</th>\n      <th>Density (persons per sq. km.)</th>\n      <th>Area (sq. km.)</th>\n      <th>Population</th>\n      <th>Gdp</th>\n      <th>V2Peedueq Osp</th>\n      <th>V2X Feduni</th>\n      <th>V2Xdd Dd</th>\n      <th>anomaly</th>\n      <th>col</th>\n      <th>Country/Territory</th>\n    </tr>\n  </thead>\n  <tbody>\n    <tr>\n      <td>1</td>\n      <td>3</td>\n      <td>3</td>\n      <td>2</td>\n      <td>3</td>\n      <td>4</td>\n      <td>3</td>\n      <td>3</td>\n      <td>3</td>\n      <td>2</td>\n      <td>2</td>\n      <td>...</td>\n      <td>111.9</td>\n      <td>27398</td>\n      <td>3066126</td>\n      <td>1.527808e+10</td>\n      <td>2.585</td>\n      <td>0.469</td>\n      <td>0.000</td>\n      <td>1</td>\n      <td>2019.0</td>\n      <td>Albania</td>\n    </tr>\n    <tr>\n      <td>2</td>\n      <td>1</td>\n      <td>1</td>\n      <td>1</td>\n      <td>1</td>\n      <td>1</td>\n      <td>1</td>\n      <td>1</td>\n      <td>1</td>\n      <td>1</td>\n      <td>1</td>\n      <td>...</td>\n      <td>17.8</td>\n      <td>2381740</td>\n      <td>42325923</td>\n      <td>1.700000e+11</td>\n      <td>3.029</td>\n      <td>0.054</td>\n      <td>0.000</td>\n      <td>1</td>\n      <td>2019.0</td>\n      <td>Algeria</td>\n    </tr>\n    <tr>\n      <td>4</td>\n      <td>0</td>\n      <td>2</td>\n      <td>1</td>\n      <td>2</td>\n      <td>1</td>\n      <td>1</td>\n      <td>2</td>\n      <td>1</td>\n      <td>1</td>\n      <td>0</td>\n      <td>...</td>\n      <td>25.2</td>\n      <td>1246700</td>\n      <td>31427266</td>\n      <td>9.463542e+10</td>\n      <td>0.794</td>\n      <td>0.000</td>\n      <td>0.000</td>\n      <td>1</td>\n      <td>2019.0</td>\n      <td>Angola</td>\n    </tr>\n    <tr>\n      <td>6</td>\n      <td>4</td>\n      <td>4</td>\n      <td>3</td>\n      <td>4</td>\n      <td>4</td>\n      <td>4</td>\n      <td>3</td>\n      <td>3</td>\n      <td>2</td>\n      <td>3</td>\n      <td>...</td>\n      <td>16.5</td>\n      <td>2736690</td>\n      <td>45089492</td>\n      <td>4.500000e+11</td>\n      <td>2.762</td>\n      <td>0.940</td>\n      <td>0.000</td>\n      <td>1</td>\n      <td>2019.0</td>\n      <td>Argentina</td>\n    </tr>\n    <tr>\n      <td>7</td>\n      <td>2</td>\n      <td>2</td>\n      <td>2</td>\n      <td>3</td>\n      <td>3</td>\n      <td>2</td>\n      <td>2</td>\n      <td>1</td>\n      <td>1</td>\n      <td>2</td>\n      <td>...</td>\n      <td>107.4</td>\n      <td>28203</td>\n      <td>3030288</td>\n      <td>1.367280e+10</td>\n      <td>3.100</td>\n      <td>0.409</td>\n      <td>0.000</td>\n      <td>1</td>\n      <td>2019.0</td>\n      <td>Armenia</td>\n    </tr>\n    <tr>\n      <td>...</td>\n      <td>...</td>\n      <td>...</td>\n      <td>...</td>\n      <td>...</td>\n      <td>...</td>\n      <td>...</td>\n      <td>...</td>\n      <td>...</td>\n      <td>...</td>\n      <td>...</td>\n      <td>...</td>\n      <td>...</td>\n      <td>...</td>\n      <td>...</td>\n      <td>...</td>\n      <td>...</td>\n      <td>...</td>\n      <td>...</td>\n      <td>...</td>\n      <td>...</td>\n      <td>...</td>\n    </tr>\n    <tr>\n      <td>1382</td>\n      <td>3</td>\n      <td>3</td>\n      <td>3</td>\n      <td>4</td>\n      <td>4</td>\n      <td>4</td>\n      <td>3</td>\n      <td>4</td>\n      <td>2</td>\n      <td>2</td>\n      <td>...</td>\n      <td>21.5</td>\n      <td>12189</td>\n      <td>261565</td>\n      <td>8.017876e+08</td>\n      <td>2.649</td>\n      <td>0.404</td>\n      <td>0.013</td>\n      <td>1</td>\n      <td>2013.0</td>\n      <td>Vanuatu</td>\n    </tr>\n    <tr>\n      <td>1383</td>\n      <td>2</td>\n      <td>2</td>\n      <td>1</td>\n      <td>2</td>\n      <td>2</td>\n      <td>1</td>\n      <td>3</td>\n      <td>1</td>\n      <td>0</td>\n      <td>1</td>\n      <td>...</td>\n      <td>33.9</td>\n      <td>882050</td>\n      <td>29923119</td>\n      <td>3.710000e+11</td>\n      <td>1.235</td>\n      <td>0.748</td>\n      <td>0.000</td>\n      <td>1</td>\n      <td>2013.0</td>\n      <td>Venezuela</td>\n    </tr>\n    <tr>\n      <td>1387</td>\n      <td>1</td>\n      <td>0</td>\n      <td>2</td>\n      <td>2</td>\n      <td>1</td>\n      <td>0</td>\n      <td>1</td>\n      <td>1</td>\n      <td>1</td>\n      <td>0</td>\n      <td>...</td>\n      <td>48.0</td>\n      <td>527968</td>\n      <td>25338458</td>\n      <td>4.041524e+10</td>\n      <td>1.038</td>\n      <td>0.000</td>\n      <td>0.000</td>\n      <td>1</td>\n      <td>2013.0</td>\n      <td>Yemen</td>\n    </tr>\n    <tr>\n      <td>1388</td>\n      <td>3</td>\n      <td>3</td>\n      <td>3</td>\n      <td>2</td>\n      <td>4</td>\n      <td>3</td>\n      <td>3</td>\n      <td>3</td>\n      <td>2</td>\n      <td>2</td>\n      <td>...</td>\n      <td>19.1</td>\n      <td>743398</td>\n      <td>14222233</td>\n      <td>2.804551e+10</td>\n      <td>1.270</td>\n      <td>0.403</td>\n      <td>0.000</td>\n      <td>1</td>\n      <td>2013.0</td>\n      <td>Zambia</td>\n    </tr>\n    <tr>\n      <td>1389</td>\n      <td>1</td>\n      <td>1</td>\n      <td>1</td>\n      <td>1</td>\n      <td>2</td>\n      <td>1</td>\n      <td>1</td>\n      <td>1</td>\n      <td>1</td>\n      <td>1</td>\n      <td>...</td>\n      <td>33.9</td>\n      <td>386847</td>\n      <td>13107377</td>\n      <td>1.909102e+10</td>\n      <td>3.140</td>\n      <td>0.552</td>\n      <td>0.000</td>\n      <td>1</td>\n      <td>2013.0</td>\n      <td>Zimbabwe</td>\n    </tr>\n  </tbody>\n</table>\n<p>1048 rows × 35 columns</p>\n</div>"
     },
     "metadata": {},
     "execution_count": 38
    }
   ],
   "source": [
    "country_based1 = country_based.loc[country_based['anomaly']==1]\n",
    "year_based1 = year_based.loc[year_based['anomaly']==1]"
   ]
  },
  {
   "cell_type": "code",
   "execution_count": 5,
   "metadata": {},
   "outputs": [],
   "source": [
    "distortions1 = [] \n",
    "inertias1 = [] \n",
    "mapping1_country = {} \n",
    "mapping2_country = {} \n",
    "K = range(1,10)\n",
    "  \n",
    "for k in K: \n",
    "    #Building and fitting the model \n",
    "    kmeanModel = KMeans(n_clusters=k).fit(country_based1.iloc[,:32]) \n",
    "    kmeanModel.fit(country_based1.iloc[,:32])     \n",
    "      \n",
    "    distortions1.append(sum(np.min(cdist(country_based1.iloc[,:32], kmeanModel.cluster_centers_, \n",
    "                      'euclidean'),axis=1)) / country_based1.iloc[,:32].shape[0]) \n",
    "    inertias1.append(kmeanModel.inertia_)\n",
    "  \n",
    "    mapping1_country[k] = sum(np.min(cdist(country_based1.iloc[,:32], kmeanModel.cluster_centers_, \n",
    "                 'euclidean'),axis=1)) / country_based1.iloc[,:32].shape[0] \n",
    "    mapping2_country[k] = kmeanModel.inertia_\n",
    "\n",
    "plt.plot(K, distortions1, 'bx-') \n",
    "plt.xlabel('Values of K')\n",
    "plt.ylabel('Distortion') \n",
    "plt.title('The Elbow Method using Distortion') \n",
    "plt.show()\n",
    "\n",
    "plt.plot(K, inertias1, 'bx-') \n",
    "plt.xlabel('Values of K') \n",
    "plt.ylabel('Inertia') \n",
    "plt.title('The Elbow Method using Inertia') \n",
    "plt.show()"
   ]
  },
  {
   "cell_type": "code",
   "execution_count": 10,
   "metadata": {},
   "outputs": [],
   "source": [
    "km = KMeans(n_clusters=3, random_state=1)\n",
    "km.fit(country_based1.iloc[,:32])\n",
    "predict=km.predict(country_based1.iloc[,:32])\n",
    "country_based1.iloc[,:32]['cluster'] = pd.Series(predict, index=country_based1.iloc[,:32].index)"
   ]
  },
  {
   "cell_type": "code",
   "execution_count": 11,
   "metadata": {},
   "outputs": [],
   "source": [
    "X = X.join(df['Country/Territory'])"
   ]
  },
  {
   "cell_type": "code",
   "execution_count": 12,
   "metadata": {},
   "outputs": [
    {
     "output_type": "execute_result",
     "data": {
      "text/plain": "['A1',\n 'A2',\n 'A3',\n 'B1',\n 'B2',\n 'B3',\n 'B4',\n 'C1',\n 'C2',\n 'C3',\n 'D1',\n 'D2',\n 'D3',\n 'D4',\n 'E1',\n 'E2',\n 'E3',\n 'F1',\n 'F2',\n 'F3',\n 'F4',\n 'G1',\n 'G2',\n 'G3',\n 'G4',\n 'Density (persons per sq. km.)',\n 'Area (sq. km.)',\n 'Population',\n 'Gdp',\n 'V2Peedueq Osp',\n 'V2X Feduni',\n 'V2Xdd Dd',\n 2013,\n 2014,\n 2015,\n 2016,\n 2017,\n 2018,\n 2019,\n 'cluster',\n 'Country/Territory']"
     },
     "metadata": {},
     "execution_count": 12
    }
   ],
   "source": [
    "list(X.columns)"
   ]
  },
  {
   "cell_type": "code",
   "execution_count": 14,
   "metadata": {},
   "outputs": [],
   "source": [
    "X = X[['Country/Territory',2013,2014,2015,2016,2017,2018,2019,'A1','A2','A3','B1','B2','B3','B4','C1','C2','C3','D1','D2','D3','D4','E1','E2','E3','F1','F2','F3','F4','G1','G2','G3','G4','Density (persons per sq. km.)',\n",
    " 'Area (sq. km.)',\n",
    " 'Population',\n",
    " 'Gdp',\n",
    " 'V2Peedueq Osp',\n",
    " 'V2X Feduni',\n",
    " 'V2Xdd Dd','cluster']]"
   ]
  },
  {
   "cell_type": "code",
   "execution_count": null,
   "metadata": {},
   "outputs": [],
   "source": []
  }
 ]
}